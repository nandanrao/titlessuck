{
 "cells": [
  {
   "cell_type": "code",
   "execution_count": null,
   "metadata": {
    "autoscroll": false,
    "collapsed": false,
    "ein.tags": "worksheet-0",
    "slideshow": {
     "slide_type": "-"
    }
   },
   "outputs": [],
   "source": [
    "!pip install gensim\n",
    "!pip install --upgrade sklearn"
   ]
  },
  {
   "cell_type": "code",
   "execution_count": null,
   "metadata": {
    "autoscroll": false,
    "collapsed": false,
    "ein.tags": "worksheet-0",
    "slideshow": {
     "slide_type": "-"
    }
   },
   "outputs": [],
   "source": [
    "import numpy as np\n",
    "from scipy.spatial.distance import pdist, cdist\n",
    "from gensim import utils\n",
    "from gensim.corpora import TextCorpus\n",
    "from gensim.models.word2vec import Word2Vec\n",
    "from gensim.models.tfidfmodel import TfidfModel\n",
    "from lib.jobs import sentence_to_vec, get_closest_doc, corpus_vec"
   ]
  },
  {
   "cell_type": "code",
   "execution_count": null,
   "metadata": {
    "autoscroll": false,
    "collapsed": false,
    "ein.tags": "worksheet-0",
    "slideshow": {
     "slide_type": "-"
    }
   },
   "outputs": [],
   "source": [
    "# setup model stuff\n",
    "corpus = TextCorpus('jobspicker/jobspicker-descriptions.csv')\n",
    "corpus.dictionary.filter_extremes(no_below=4, no_above=.9, keep_n=100000)\n",
    "sentences = [list(g) for g in list(corpus.get_texts())]\n",
    "tfidf = TfidfModel(corpus)\n",
    "model = Word2Vec.load(\"profiles.model\")\n",
    "corp_vecs = corpus_vec(sentences, model, corpus)"
   ]
  },
  {
   "cell_type": "code",
   "execution_count": null,
   "metadata": {
    "autoscroll": false,
    "collapsed": false,
    "ein.tags": "worksheet-0",
    "slideshow": {
     "slide_type": "-"
    }
   },
   "outputs": [],
   "source": [
    "vec = sentence_to_vec(\"outdoor independent working alone and self-motivated to work without supervision\", model, corpus, tfidf)\n",
    "a = get_closest_doc(vec, corp_vecs, sentences)\n",
    "\" \".join(a)"
   ]
  },
  {
   "cell_type": "code",
   "execution_count": null,
   "metadata": {
    "autoscroll": false,
    "collapsed": false,
    "ein.tags": "worksheet-0",
    "slideshow": {
     "slide_type": "-"
    }
   },
   "outputs": [],
   "source": [
    "from lib.bayes_opt import BayesianOptimizer\n",
    "\n",
    "bo = BayesianOptimizer({\n",
    "    'max_depth': (2, 10),\n",
    "    'n_estimators': (50, 150),\n",
    "    'eta': (.01, .9)\n",
    "},\n",
    "    kernel=Matern(nu=2)\n",
    ")"
   ]
  }
 ],
 "metadata": {
  "kernelspec": {
   "display_name": "Python 2",
   "name": "python2"
  },
  "language_info": {
   "codemirror_mode": {
    "name": "ipython",
    "version": 2
   },
   "file_extension": ".py",
   "mimetype": "text/x-python",
   "name": "python",
   "nbconvert_exporter": "python",
   "pygments_lexer": "ipython2",
   "version": "2.7.13"
  },
  "name": "Word2Vec.ipynb"
 },
 "nbformat": 4,
 "nbformat_minor": 2
}
