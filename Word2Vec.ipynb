{
 "cells": [
  {
   "cell_type": "code",
   "execution_count": 3,
   "metadata": {
    "autoscroll": false,
    "ein.tags": "worksheet-0",
    "slideshow": {
     "slide_type": "-"
    }
   },
   "outputs": [
    {
     "name": "stdout",
     "output_type": "stream",
     "text": [
      "Requirement already satisfied: gensim in /usr/local/lib/python3.5/site-packages\n",
      "Requirement already satisfied: scipy>=0.7.0 in /usr/local/lib/python3.5/site-packages (from gensim)\n",
      "Requirement already satisfied: six>=1.5.0 in /usr/local/lib/python3.5/site-packages (from gensim)\n",
      "Requirement already satisfied: smart-open>=1.2.1 in /usr/local/lib/python3.5/site-packages (from gensim)\n",
      "Requirement already satisfied: numpy>=1.3 in /usr/local/lib/python3.5/site-packages (from gensim)\n",
      "Requirement already satisfied: requests in /usr/local/lib/python3.5/site-packages (from smart-open>=1.2.1->gensim)\n",
      "Requirement already satisfied: bz2file in /usr/local/lib/python3.5/site-packages (from smart-open>=1.2.1->gensim)\n",
      "Requirement already satisfied: boto>=2.32 in /usr/local/lib/python3.5/site-packages (from smart-open>=1.2.1->gensim)\n",
      "Requirement already up-to-date: sklearn in /usr/local/lib/python3.5/site-packages\n",
      "Requirement already up-to-date: scikit-learn in /usr/local/lib/python3.5/site-packages (from sklearn)\n"
     ]
    }
   ],
   "source": [
    "!pip install gensim\n",
    "!pip install --upgrade sklearn"
   ]
  },
  {
   "cell_type": "code",
   "execution_count": 11,
   "metadata": {
    "collapsed": true
   },
   "outputs": [],
   "source": [
    "%load_ext autoreload\n",
    "%autoreload 2"
   ]
  },
  {
   "cell_type": "code",
   "execution_count": 1,
   "metadata": {
    "autoscroll": false,
    "ein.tags": "worksheet-0",
    "slideshow": {
     "slide_type": "-"
    }
   },
   "outputs": [],
   "source": [
    "import numpy as np\n",
    "from scipy.spatial.distance import pdist, cdist\n",
    "from gensim import utils\n",
    "from gensim.corpora import TextCorpus\n",
    "from gensim.models.word2vec import Word2Vec\n",
    "from gensim.models.tfidfmodel import TfidfModel\n",
    "from lib.jobs import sentence_to_vec, get_closest_doc, corpus_vec"
   ]
  },
  {
   "cell_type": "code",
   "execution_count": 2,
   "metadata": {
    "autoscroll": false,
    "ein.tags": "worksheet-0",
    "slideshow": {
     "slide_type": "-"
    }
   },
   "outputs": [],
   "source": [
    "# setup model stuff\n",
    "corpus = TextCorpus('jobspicker/jobspicker-descriptions.csv')\n",
    "corpus.dictionary.filter_extremes(no_below=4, no_above=.9, keep_n=100000)\n",
    "sentences = [list(g) for g in list(corpus.get_texts())]\n",
    "tfidf = TfidfModel(corpus)\n",
    "model = Word2Vec.load(\"profiles.model\")\n",
    "corp_vecs = corpus_vec(sentences, model, corpus)"
   ]
  },
  {
   "cell_type": "code",
   "execution_count": 3,
   "metadata": {
    "autoscroll": false,
    "ein.tags": "worksheet-0",
    "slideshow": {
     "slide_type": "-"
    }
   },
   "outputs": [],
   "source": [
    "get_vec = lambda t: sentence_to_vec(t, model, corpus, tfidf)\n",
    "get_job = lambda v: get_closest_doc(v, corp_vecs, sentences)"
   ]
  },
  {
   "cell_type": "code",
   "execution_count": 4,
   "metadata": {
    "autoscroll": false,
    "ein.tags": "worksheet-0",
    "slideshow": {
     "slide_type": "-"
    }
   },
   "outputs": [],
   "source": [
    "vec = get_vec(\"outdoor independent working alone and self-motivated to work without supervision\")\n",
    "doc = get_job(vec)"
   ]
  },
  {
   "cell_type": "code",
   "execution_count": 183,
   "metadata": {
    "autoscroll": false,
    "ein.tags": "worksheet-0",
    "slideshow": {
     "slide_type": "-"
    }
   },
   "outputs": [
    {
     "data": {
      "text/plain": [
       "(678,\n",
       " 't this position is responsible for managing the entire auto center and associates including the assistant manager in auto centers with annual sales volume under million this includes but is not limited to selecting scheduling supervising directing managing counseling disciplining and training of subordinates analyses and driving of sales volume customer service profitability and performance identification and solution of business problems creation and implementation of competitive strategies managing productivity standards and overall auto center management responsibilities personally provides professional timely and courteous service by listening carefully to customers presenting sears automotive products clearly and teaming with technicians this position is responsible for the overall management and performance of the auto center and its staff and other projects as assigned the auto center manager i is expected to spend well over of his her time on management duties on a daily and weekly basis the auto center manager i will be a back up to address customer needs and sales transactions when the assistant auto center manager is not able job duties responsibilities sets plans and strategy to lead auto center to ensure achievement of business goals in sales and service focuses selling service and support teams on consistent timely and accurate customer care ensures delivery of speed and expertise to the customer through day to day management of business operations processes and programs conducts financial review analyses and long term planning and management of business and key drivers to impact sales and profit sets plans and strategy to manage expense understand and drive margin maintain appropriate merchandise protection standards responsible for determining appropriate outcomes to customer issues and concerns by making sound business decisions recognizes encourages and acknowledges excellent customer service performs as the customer experience manager on duty responsible for building a high performance team that delivers sears automotive services consistently and to high quality standards plans directs and supervises the work and productivity levels of associates to ensure standards are met or exceeded recognizes exceptional performance makes appropriate decisions on subordinate performance up to and including termination of employment following various appropriate disciplinary processes and trains and supervises assistant manager in the store to appropriately address performance concerns achieves personal sales and service goals and helps team in achieving the same delivers speed and expertise to the customer through daily execution of business processes and programs communicates accurately with service technicians to ensure timely delivery of the specified service performs supervisory functions including but not limited to making employment decisions regarding hiring promoting demoting and terminating conducting performance appraisals and coaching and developing associates miscellaneous duties as assigned job requirements must have a valid driver s license supervisory experience preferred skills ase certified bachelor s degree equal opportunity employer disability vet automotive center manager north wales pa sears holding t us a bd ec dcfae d e ee t z http jobs sears com job automotive center manager north wales pa north wales pa')"
      ]
     },
     "execution_count": 183,
     "metadata": {},
     "output_type": "execute_result"
    }
   ],
   "source": [
    "from lib.sampling_bayes_opt import SamplingBayesianOptimizer\n",
    "\n",
    "bo = SamplingBayesianOptimizer(corp_vecs, init_observations=vec.tolist() + [1])\n",
    "suggestion = bo.suggest()\n",
    "get_job(suggestion)"
   ]
  },
  {
   "cell_type": "code",
   "execution_count": 184,
   "metadata": {},
   "outputs": [
    {
     "name": "stderr",
     "output_type": "stream",
     "text": [
      "/usr/local/lib/python3.5/site-packages/sklearn/gaussian_process/kernels.py:1362: RuntimeWarning: invalid value encountered in true_divide\n",
      "  / np.sqrt(D.sum(2))[:, :, np.newaxis]\n"
     ]
    },
    {
     "data": {
      "text/plain": [
       "(316,\n",
       " 'the ability to identify process improvements and make sound recommendations must have working knowledge of labor and employment laws ability to manage multiple tasks and meet deadlines possess excellent problem solving organizational interpersonal and motivational skills drive and ability to continuously improve processes and procedures ability to handle confidential and sensitive information with discretion ability to identify and resolve issues independently with initiative solid sense of accountability and sound personal judgment excellent customer service and bias for action relentless focus on customer experience ability to handle a high volume transactional load southern california region california fulfillment workforce staffing staffing specialist high volume hiring amazon com t us b ba a c dec a t z https www amazon jobs en gb jobs')"
      ]
     },
     "execution_count": 184,
     "metadata": {},
     "output_type": "execute_result"
    }
   ],
   "source": [
    "bo.update(suggestion.tolist(), 0.1)\n",
    "suggestion = bo.suggest()\n",
    "get_job(suggestion)"
   ]
  },
  {
   "cell_type": "code",
   "execution_count": null,
   "metadata": {},
   "outputs": [
    {
     "name": "stderr",
     "output_type": "stream",
     "text": [
      "/usr/local/lib/python3.5/site-packages/sklearn/gaussian_process/kernels.py:1362: RuntimeWarning: invalid value encountered in true_divide\n",
      "  / np.sqrt(D.sum(2))[:, :, np.newaxis]\n"
     ]
    }
   ],
   "source": [
    "bo.update(suggestion.tolist(), 0.8)\n",
    "suggestion = bo.suggest()\n",
    "get_job(suggestion)"
   ]
  },
  {
   "cell_type": "code",
   "execution_count": 182,
   "metadata": {},
   "outputs": [
    {
     "name": "stderr",
     "output_type": "stream",
     "text": [
      "/usr/local/lib/python3.5/site-packages/sklearn/gaussian_process/kernels.py:1362: RuntimeWarning: invalid value encountered in true_divide\n",
      "  / np.sqrt(D.sum(2))[:, :, np.newaxis]\n"
     ]
    },
    {
     "data": {
      "text/plain": [
       "(2641,\n",
       " 'auto mall pkwy fremont ca responsibilities an equipment operator is responsible for the daily distribution activities productivity and quality within the assigned area s of a distribution facility this position is responsible for demonstrating safety quality and productivity performance and operational expertise this position will be required to proficiently perform at least one or more distribution related activities e g order filling shipping receiving on a regular basis with or more of work performed using a forklift or pit perform loading unloading and or picking of product and materials using powered lifting equipment to move product throughout the facility may operate stock picker sit down stand up equipment reach truck etc contribute to a safe work environment through continuous focus on housekeeping and safety demonstrate a commitment to our company s core values interact with supervisors leads and or work groups with information exchanges related to immediate tasks participate in the implementation and contribute ideas and suggestions for continuous improvements to the distribution process in a group setting work in a fast paced metric driven environment qualifications high school diploma or equivalent education preferred minimum year experience in related field warehouse experience osha certification license basic ability to communicate both verbally and in writing using the english language basic math skills counting addition subtraction multiplication basic computer skills accessing and navigating the internet familiar with the keyboard opening closing and saving documents ability to lift a minimum of pounds regularly up to pounds infrequently ability to push pull grasp and fine manipulation of equipment using hands is ongoing throughout the work hours walking on uneven surfaces possible though infrequently successful completion of office depot forklift operator licensing program warehouse systems ability to work a flexible schedule is a plus start shift early and or stay until the work is complete exhibited good job performance and behavior as measured through indicators such as teamwork attendance quality and productivity etc self directed pay benefits and work schedule office depot offers competitive salaries a benefits package which includes a k and more along with plenty of opportunity to move and grow within our organization for immediate consideration for this exciting position please click the apply now button equal employment opportunity office depot is committed to providing equal employment opportunities in all employment practices all qualified applicants will receive consideration for employment without regard to race color religion sex national origin citizenship status marital status age disability genetic information protected veteran status gender identify or expression sexual orientation or any other characteristic protected by law operator equipment office depot t us a b f fe e a c d c t z https jobs officedepot com job operator equipment fremont ca')"
      ]
     },
     "execution_count": 182,
     "metadata": {},
     "output_type": "execute_result"
    }
   ],
   "source": [
    "bo.update(suggestion.tolist(), 10)\n",
    "suggestion = bo.suggest()\n",
    "get_job(suggestion)"
   ]
  },
  {
   "cell_type": "code",
   "execution_count": 181,
   "metadata": {},
   "outputs": [
    {
     "data": {
      "text/plain": [
       "4"
      ]
     },
     "execution_count": 181,
     "metadata": {},
     "output_type": "execute_result"
    }
   ],
   "source": []
  }
 ],
 "metadata": {
  "kernelspec": {
   "display_name": "Python 3",
   "language": "python",
   "name": "python3"
  },
  "language_info": {
   "codemirror_mode": {
    "name": "ipython",
    "version": 3
   },
   "file_extension": ".py",
   "mimetype": "text/x-python",
   "name": "python",
   "nbconvert_exporter": "python",
   "pygments_lexer": "ipython3",
   "version": "3.5.2"
  },
  "name": "Word2Vec.ipynb"
 },
 "nbformat": 4,
 "nbformat_minor": 2
}
