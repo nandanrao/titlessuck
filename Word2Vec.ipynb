{
 "cells": [
  {
   "cell_type": "code",
   "execution_count": 48,
   "metadata": {
    "autoscroll": false,
    "ein.tags": "worksheet-0",
    "slideshow": {
     "slide_type": "-"
    }
   },
   "outputs": [],
   "source": [
    "import numpy as np"
   ]
  },
  {
   "cell_type": "code",
   "execution_count": 26,
   "metadata": {
    "autoscroll": false,
    "ein.tags": "worksheet-0",
    "slideshow": {
     "slide_type": "-"
    }
   },
   "outputs": [],
   "source": [
    "from gensim.corpora import TextCorpus, MmCorpus\n",
    "from gensim import utils\n",
    "\n",
    "# override corpus with your own tokenizer for trial/error\n",
    "list(utils.tokenize(\"energetic outdoors wilderness independence alone\"))\n",
    "\n",
    "corpus = TextCorpus('./descriptions')\n",
    "corpus.dictionary.filter_extremes(no_below=3, no_above=.9, keep_n=10000)"
   ]
  },
  {
   "cell_type": "code",
   "execution_count": 24,
   "metadata": {
    "autoscroll": false,
    "ein.tags": "worksheet-0",
    "slideshow": {
     "slide_type": "-"
    }
   },
   "outputs": [],
   "source": [
    "# Create TFIDF\n",
    "from gensim.models.tfidfmodel import TfidfModel\n",
    "tfidf = TfidfModel(corpus)"
   ]
  },
  {
   "cell_type": "code",
   "execution_count": 25,
   "metadata": {
    "autoscroll": false,
    "ein.tags": "worksheet-0",
    "slideshow": {
     "slide_type": "-"
    }
   },
   "outputs": [
    {
     "data": {
      "text/plain": [
       "[]"
      ]
     },
     "execution_count": 25,
     "metadata": {},
     "output_type": "execute_result"
    }
   ],
   "source": [
    "# get the BOW (TF) for a doc\n",
    "tf = corpus.dictionary.doc2bow(utils.tokenize(\"energetic outdoors wilderness independence alone\"))\n",
    "tfidf[tf]"
   ]
  },
  {
   "cell_type": "code",
   "execution_count": 13,
   "metadata": {
    "autoscroll": false,
    "ein.tags": "worksheet-0",
    "slideshow": {
     "slide_type": "-"
    }
   },
   "outputs": [],
   "source": [
    "from gensim.models.word2vec import Word2Vec\n",
    "\n",
    "model = Word2Vec.load(\"profiles.model\")"
   ]
  },
  {
   "cell_type": "code",
   "execution_count": 218,
   "metadata": {
    "autoscroll": false,
    "ein.tags": "worksheet-0",
    "slideshow": {
     "slide_type": "-"
    }
   },
   "outputs": [],
   "source": [
    "def sample(w, size = 50, pwr = 1.75):\n",
    "    t,f = w[:,0], w[:,1]**pwr\n",
    "    p = f/np.linalg.norm(f, 1)\n",
    "    return np.random.choice(t, size = size, replace = True, p = p)\n",
    "\n",
    "def doc_vec(w, model, corpus):\n",
    "    # TODO: deal with things not in vocabulary.... \n",
    "    vecs = [model[corpus.dictionary[x]] for x in sample(w)]\n",
    "    return np.mean(vecs, 0)    "
   ]
  },
  {
   "cell_type": "code",
   "execution_count": 15,
   "metadata": {
    "autoscroll": false,
    "ein.tags": "worksheet-0",
    "slideshow": {
     "slide_type": "-"
    }
   },
   "outputs": [
    {
     "ename": "NameError",
     "evalue": "name 'corpus' is not defined",
     "output_type": "error",
     "traceback": [
      "\u001b[0;31m\u001b[0m",
      "\u001b[0;31mNameError\u001b[0mTraceback (most recent call last)",
      "\u001b[0;32m<ipython-input-15-761ebc0c34fa>\u001b[0m in \u001b[0;36m<module>\u001b[0;34m()\u001b[0m\n\u001b[0;32m----> 1\u001b[0;31m \u001b[0msentences\u001b[0m \u001b[0;34m=\u001b[0m \u001b[0;34m[\u001b[0m\u001b[0mlist\u001b[0m\u001b[0;34m(\u001b[0m\u001b[0mg\u001b[0m\u001b[0;34m)\u001b[0m \u001b[0;32mfor\u001b[0m \u001b[0mg\u001b[0m \u001b[0;32min\u001b[0m \u001b[0mlist\u001b[0m\u001b[0;34m(\u001b[0m\u001b[0mcorpus\u001b[0m\u001b[0;34m.\u001b[0m\u001b[0mget_texts\u001b[0m\u001b[0;34m(\u001b[0m\u001b[0;34m)\u001b[0m\u001b[0;34m)\u001b[0m\u001b[0;34m]\u001b[0m\u001b[0;34m\u001b[0m\u001b[0m\n\u001b[0m\u001b[1;32m      2\u001b[0m \u001b[0mdoc\u001b[0m \u001b[0;34m=\u001b[0m \u001b[0msentences\u001b[0m\u001b[0;34m[\u001b[0m\u001b[0;36m2\u001b[0m\u001b[0;34m]\u001b[0m\u001b[0;34m\u001b[0m\u001b[0m\n\u001b[1;32m      3\u001b[0m \u001b[0mw\u001b[0m \u001b[0;34m=\u001b[0m \u001b[0mnp\u001b[0m\u001b[0;34m.\u001b[0m\u001b[0marray\u001b[0m\u001b[0;34m(\u001b[0m\u001b[0mtfidf\u001b[0m\u001b[0;34m[\u001b[0m\u001b[0mcorpus\u001b[0m\u001b[0;34m.\u001b[0m\u001b[0mdictionary\u001b[0m\u001b[0;34m.\u001b[0m\u001b[0mdoc2bow\u001b[0m\u001b[0;34m(\u001b[0m\u001b[0mdoc\u001b[0m\u001b[0;34m)\u001b[0m\u001b[0;34m]\u001b[0m\u001b[0;34m)\u001b[0m\u001b[0;34m\u001b[0m\u001b[0m\n\u001b[1;32m      4\u001b[0m \u001b[0mm\u001b[0m \u001b[0;34m=\u001b[0m \u001b[0mdoc_vec\u001b[0m\u001b[0;34m(\u001b[0m\u001b[0mw\u001b[0m\u001b[0;34m,\u001b[0m \u001b[0mmodel\u001b[0m\u001b[0;34m,\u001b[0m \u001b[0mcorpus\u001b[0m\u001b[0;34m)\u001b[0m\u001b[0;34m\u001b[0m\u001b[0m\n\u001b[1;32m      5\u001b[0m \u001b[0mword\u001b[0m\u001b[0;34m.\u001b[0m\u001b[0msimilar_by_vector\u001b[0m\u001b[0;34m(\u001b[0m\u001b[0mm\u001b[0m\u001b[0;34m)\u001b[0m\u001b[0;34m\u001b[0m\u001b[0m\n",
      "\u001b[0;31mNameError\u001b[0m: name 'corpus' is not defined"
     ]
    }
   ],
   "source": [
    "sentences = [list(g) for g in list(corpus.get_texts())]\n",
    "doc = sentences[2]\n",
    "w = np.array(tfidf[corpus.dictionary.doc2bow(doc)])\n",
    "m = doc_vec(w, model, corpus)\n",
    "word.similar_by_vector(m)"
   ]
  },
  {
   "cell_type": "code",
   "execution_count": 166,
   "metadata": {
    "autoscroll": false,
    "ein.tags": "worksheet-0",
    "slideshow": {
     "slide_type": "-"
    }
   },
   "outputs": [
    {
     "data": {
      "text/plain": [
       "u'measurement manager for measurement campaigns on our offshore wind farmsdo you have excellent project management skills join us and become measurement manager in the measurements department together with your colleagues you will work closely with suppliers of wind sea state and structural load measurement equipment to ensure the best technologies for deployment at our wind farms we also work closely with stakeholders across the organisation including experts in wind and sea state assessment load analysis foundation design wtg technology and site classification on designing the best measurement campaigns for our offshore wind farms as part of the measurements team which counts employees you will manage projects for designing and implementing wind wave structural load and power curve measurement programs for utility scale wind farms you will be project manager for a team of specialists covering several highly specialised areas of expertise measurements is part of wind power which has employees and is one of four business units in dong energy wind power is the world s largest developer and operator of offshore wind power and we use our unique knowledge in all phases of our wind turbine projects during the last years we have developed and constructed the largest portfolio of offshore wind farms in northern europe you may choose freely to be based either at our office in sk\\xe6rb\\xe6k near fredericia or in gentofte in the greater copenhagen area or alternatively at our london office in the united kingdom on local terms and conditions however you should expect some travelling to our locations in denmark and abroad in relation to your work your key duties will be to take ownership of the assigned measurement projects be responsible for all aspects relating to your project including scope budget planning risks and safety be responsible for specification procurement installation and maintenance of measurement campaigns including wind wave structural load and power curve manage contractors and carry out stakeholder management of internal project teams across the organisation contribute to improving the processes within the measurements team moreover you will contribute actively to developing our knowledge base and participate in solving related development tasks and studies your qualifications and core competences include that you have a relevant education within engineering management or similar and excellent project management skills you are a seasoned project manager and used to working in complex matrix organisations speak and write english fluently are motivated by a steep learning curve on how we work thrive on working with multiple stakeholders with diverse backgrounds from across our business as a person you are open minded and you have the ability to find pragmatic solutions as well as the ability to prioritise your tasks during busy and challenging periods moreover you have excellent communication skills and are able to present results professionally to your colleagues and stakeholders you are accustomed to working in a multinational environment and have a deep cultural understanding and you are able to manage multiple tasks simultaneously in a timely and effective manner and keep the bigger picture in view at all times it is an advantage if you have knowledge of the full life cycle of offshore wind farm projects and experience with wind sea state and load measurement equipment such as lidars metocean buoys and strain gauges it is also beneficial if you have experience with managing contractors and installing equipment on site we offeran exciting and interesting job where your work will bring you new challenges continuously we are a team spanning a number of expertise areas we cover nine nationalities and come from diverse backgrounds in the department we place emphasis on creating a feedback culture and we focus especially on leadership processes and development of our employees competences we also focus on value creation by increasing the certainty of our measurements and improving the delivery of measured data to our various clients within the group in dong energy wind power we have a high level of expertise and many complex and challenging work tasks we work goal oriented and efficiently with some of the world s largest offshore wind projects and we are committed to reducing the cost of electricity contact usfor denmark please do not hesitate to contact anders thoft marcussen manager of measurements on telephone if you want to know more about the position for the united kingdom please do not hesitate to contact the recruitment specialist by email on ukrecruitment dongenergy co uk we look forward to receiving your application cv and diplomas as electronic files as soon as possible and no later than november as we will be conducting interviews on a continuous basis all uk based positions will be subject to satisfactory pre employment screening further details will be given at offer stage click on the button to submit your application'"
      ]
     },
     "execution_count": 166,
     "metadata": {},
     "output_type": "execute_result"
    }
   ],
   "source": [
    "' '.join(sentences[2])"
   ]
  },
  {
   "cell_type": "code",
   "execution_count": null,
   "metadata": {
    "autoscroll": false,
    "ein.tags": "worksheet-0",
    "slideshow": {
     "slide_type": "-"
    }
   },
   "outputs": [],
   "source": [
    "from gensim import utils\n",
    "from gensim.models.word2vec import LineSentence\n",
    "import itertools\n",
    "from gensim.models.word2vec_inner import FAST_VERSION, MAX_WORDS_IN_BATCH\n",
    "\n",
    "class TokenSentence(object):\n",
    "    \"\"\"\n",
    "    Simple format: one sentence = one line; words already preprocessed and separated by whitespace.\n",
    "    \"\"\"\n",
    "\n",
    "    def __init__(self, source, max_sentence_length=MAX_WORDS_IN_BATCH, limit=None, preprocess=lambda x: utils.to_unicode(x).split()):\n",
    "        \"\"\"\n",
    "        `source` can be either a list or single item which is either a string or a file object. Clip the file to the first\n",
    "        `limit` lines (or no clipped if limit is None, the default).\n",
    "        `preprocess` is a function that takes one argument, a string, and returns a list of tokens (defaults to utils.to_unicode(line).split())\n",
    "        Example::\n",
    "            sentences = LineSentence('myfile.txt')\n",
    "        Or for compressed files::\n",
    "            sentences = LineSentence('compressed_text.txt.bz2')\n",
    "            sentences = LineSentence('compressed_text.txt.gz')\n",
    "        \"\"\"\n",
    "        self.sources = source if type(source) == list else [source]\n",
    "        self.max_sentence_length = max_sentence_length\n",
    "        self.limit = limit\n",
    "        self.preprocess = preprocess\n",
    "\n",
    "    def __iter__(self):\n",
    "        \"\"\"Iterate through the lines in the source.\"\"\"\n",
    "        def process(source):\n",
    "            for line in itertools.islice(source, self.limit):\n",
    "                line = self.preprocess(line)\n",
    "                i = 0\n",
    "                while i < len(line):\n",
    "                    yield line[i : i + self.max_sentence_length]\n",
    "                    i += self.max_sentence_length\n",
    "\n",
    "        try:\n",
    "            # Assume it is a file-like object and try treating it as such\n",
    "            # Things that don't have seek will trigger an exception            \n",
    "            self.sources[0].seek(0)\n",
    "            for s in self.sources:\n",
    "                for i in process(s):\n",
    "                    yield i\n",
    "            \n",
    "        except AttributeError:\n",
    "            # If it didn't work like a file, use it as a string filename\n",
    "            for s in self.sources:\n",
    "                with utils.smart_open(s) as fin:\n",
    "                    for i in process(fin):\n",
    "                        yield i\n",
    "\n",
    "tokenize = lambda x: list(utils.tokenize(x, lower=True, deacc=True, errors='ignore'))\n",
    "a = TokenSentence(['descriptions', 'descriptions'], preprocess = tokenize)\n",
    "a = list(itertools.islice((i for i in a), 1400, 1420))\n",
    "len(a)\n",
    "a[3]"
   ]
  },
  {
   "cell_type": "code",
   "execution_count": 325,
   "metadata": {
    "autoscroll": false,
    "ein.tags": "worksheet-0",
    "slideshow": {
     "slide_type": "-"
    }
   },
   "outputs": [],
   "source": [
    "from scipy.stats import gaussian_kde\n",
    "\n",
    "# gaussian_kde(word.wv)\n",
    "\n",
    "kde = gaussian_kde(word.wv.syn0norm)"
   ]
  },
  {
   "cell_type": "code",
   "execution_count": null,
   "metadata": {
    "autoscroll": false,
    "ein.tags": "worksheet-0",
    "slideshow": {
     "slide_type": "-"
    }
   },
   "outputs": [],
   "source": [
    "size = 10\n",
    "# np.random.choice(word.wv.syn0norm, size = size)\n",
    "X = word.wv.syn0norm\n",
    "X[np.random.choice(X.shape[0], size = 10, replace=False), :]"
   ]
  }
 ],
 "metadata": {
  "kernelspec": {
   "display_name": "Python 2",
   "language": "python",
   "name": "python2"
  },
  "language_info": {
   "codemirror_mode": {
    "name": "ipython",
    "version": 2
   },
   "file_extension": ".py",
   "mimetype": "text/x-python",
   "name": "python",
   "nbconvert_exporter": "python",
   "pygments_lexer": "ipython2",
   "version": "2.7.13"
  },
  "name": "Word2Vec.ipynb"
 },
 "nbformat": 4,
 "nbformat_minor": 2
}
